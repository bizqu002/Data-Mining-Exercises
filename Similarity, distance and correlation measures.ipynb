{
 "cells": [
  {
   "cell_type": "markdown",
   "metadata": {},
   "source": [
    "Cosine Similarity, Correlation, Euclidean Distance, Jaccard Similarity, Jaccard Distance"
   ]
  },
  {
   "cell_type": "code",
   "execution_count": 1,
   "metadata": {},
   "outputs": [],
   "source": [
    "###Introduction to Data Mining by Tan, Steinbach & Kumar\n",
    "###Chapter 2 Problem 19\n",
    "###Author: Brenda S. Izquierdo\n",
    "\n",
    "import numpy as np\n",
    "import math as mt\n",
    "\n",
    "###Helper Functions\n",
    "def vector_addition(w):\n",
    "    return np.sum(list(np.array(w)))\n",
    "\n",
    "def vector_square(w):\n",
    "    return np.sum(list(np.array(w)*np.array(w)))\n",
    "   \n",
    "def dot_product(x, y):\n",
    "    return np.sum(list(np.array(x)*np.array(y)))\n",
    "\n",
    "def vector_square_sqrt(w):\n",
    "    return mt.sqrt(vector_square(w))\n",
    "\n",
    "\n",
    "###Measures    \n",
    "def cosine_similarity(x, y):\n",
    "    num = dot_product(x, y)\n",
    "    dem = vector_square_sqrt(x)*vector_square_sqrt(y)\n",
    "    return num/dem\n",
    "\n",
    "def pearson_correlation(x, y):\n",
    "    num = len(x)*dot_product(x, y) - vector_addition(x)*vector_addition(y)\n",
    "    dem = mt.sqrt((len(x)*vector_square(x) - mt.pow(vector_addition(x), 2))*\n",
    "                  (len(y)*vector_square(y) - mt.pow(vector_addition(y), 2)))\n",
    "    if(mt.isnan(num/dem)):\n",
    "        return \"0/0\"\n",
    "    else:\n",
    "        return num/dem\n",
    "\n",
    "def euclidean(x, y):\n",
    "     return mt.sqrt(np.sum(np.square(list(np.array(x)-np.array(y)))))\n",
    "\n",
    "def jaccard_similarity(x, y):\n",
    "    num = set(x) - (set(x) - set(y))\n",
    "    dem = set(x+y)\n",
    "    return len(num)/len(dem)\n",
    "\n",
    "def jaccard_distance(x, y):\n",
    "    return 1 - jaccard_similarity(x, y)\n",
    "    "
   ]
  },
  {
   "cell_type": "code",
   "execution_count": 2,
   "metadata": {},
   "outputs": [
    {
     "name": "stdout",
     "output_type": "stream",
     "text": [
      "[0] For x = [1, 1, 1, 1] and y = [2, 2, 2, 2]\n",
      "Cosine Similarity: 1.0\n",
      "Pearson Correlation: 0/0\n",
      "Euclidean Distance: 2.0\n",
      "Jaccard Similarity: 0.0\n",
      "Jaccard Distance: 1.0 \n",
      "\n",
      "\n",
      "[1] For x = [0, 1, 0, 1] and y = [1, 0, 1, 0]\n",
      "Cosine Similarity: 0.0\n",
      "Pearson Correlation: -1.0\n",
      "Euclidean Distance: 2.0\n",
      "Jaccard Similarity: 1.0\n",
      "Jaccard Distance: 0.0 \n",
      "\n",
      "\n",
      "[2] For x = [0, -1, 0, 1] and y = [1, 0, -1, 0]\n",
      "Cosine Similarity: 0.0\n",
      "Pearson Correlation: 0.0\n",
      "Euclidean Distance: 2.0\n",
      "Jaccard Similarity: 1.0\n",
      "Jaccard Distance: 0.0 \n",
      "\n",
      "\n",
      "[3] For x = [1, 1, 0, 1, 0, 1] and y = [1, 1, 1, 0, 0, 1]\n",
      "Cosine Similarity: 0.75\n",
      "Pearson Correlation: 0.25\n",
      "Euclidean Distance: 1.4142135623730951\n",
      "Jaccard Similarity: 1.0\n",
      "Jaccard Distance: 0.0 \n",
      "\n",
      "\n",
      "[4] For x = [2, -1, 0, 2, 0, -3] and y = [-1, 1, -1, 0, 0, -1]\n",
      "Cosine Similarity: 0.0\n",
      "Pearson Correlation: 0.0\n",
      "Euclidean Distance: 4.69041575982343\n",
      "Jaccard Similarity: 0.4\n",
      "Jaccard Distance: 0.6 \n",
      "\n",
      "\n"
     ]
    },
    {
     "name": "stderr",
     "output_type": "stream",
     "text": [
      "/anaconda3/lib/python3.6/site-packages/ipykernel_launcher.py:32: RuntimeWarning: invalid value encountered in true_divide\n"
     ]
    }
   ],
   "source": [
    "\n",
    "###Vectors\n",
    "x = [[1,1,1,1], [0,1,0,1], [0,-1,0,1], [1,1,0,1,0,1], [2,-1,0,2,0,-3]]\n",
    "y = [[2,2,2,2], [1,0,1,0], [1,0,-1,0], [1,1,1,0,0,1], [-1,1,-1,0,0,-1]]\n",
    "\n",
    "for i in range(0, len(x)):\n",
    "    num_exercise = \"[\" + str(i) + \"]\"\n",
    "    print(num_exercise, \"For x =\", x[i], \"and y =\", y[i])\n",
    "    print(\"Cosine Similarity:\", cosine_similarity(x[i], y[i]))\n",
    "    print(\"Pearson Correlation:\", pearson_correlation(x[i], y[i]))\n",
    "    print(\"Euclidean Distance:\", euclidean(x[i], y[i]))\n",
    "    print(\"Jaccard Similarity:\", jaccard_similarity(x[i], y[i]))\n",
    "    print(\"Jaccard Distance:\", jaccard_distance(x[i], y[i]), \"\\n\\n\")\n"
   ]
  },
  {
   "cell_type": "code",
   "execution_count": null,
   "metadata": {},
   "outputs": [],
   "source": []
  }
 ],
 "metadata": {
  "kernelspec": {
   "display_name": "Python 3",
   "language": "python",
   "name": "python3"
  },
  "language_info": {
   "codemirror_mode": {
    "name": "ipython",
    "version": 3
   },
   "file_extension": ".py",
   "mimetype": "text/x-python",
   "name": "python",
   "nbconvert_exporter": "python",
   "pygments_lexer": "ipython3",
   "version": "3.6.5"
  }
 },
 "nbformat": 4,
 "nbformat_minor": 2
}
