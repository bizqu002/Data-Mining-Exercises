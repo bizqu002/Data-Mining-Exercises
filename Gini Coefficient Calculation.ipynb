{
 "cells": [
  {
   "cell_type": "code",
   "execution_count": 73,
   "metadata": {},
   "outputs": [
    {
     "name": "stdout",
     "output_type": "stream",
     "text": [
      "2. Consider the training examples shown in Table 4.7 for a binary classification problem\n",
      "\n",
      "\n",
      "   Customer ID Gender Car Type   Shirt Size Class\n",
      "0            1      M   Family        Small    C0\n",
      "1            2      M   Sports       Medium    C0\n",
      "2            3      M   Sports       Medium    C0\n",
      "3            4      M   Sports        Large    C0\n",
      "4            5      M   Sports  Extra Large    C0\n",
      "5            6      M   Sports  Extra Large    C0\n",
      "6            7      F   Sports        Small    C0\n",
      "7            8      F   Sports        Small    C0\n",
      "8            9      F   Sports       Medium    C0\n",
      "9           10      F   Luxury        Large    C0\n",
      "10          11      M   Family        Large    C1\n",
      "11          12      M   Family  Extra Large    C1\n",
      "12          13      M   Family       Medium    C1\n",
      "13          14      M   Luxury  Extra Large    C1\n",
      "14          15      F   Luxury        Small    C1\n",
      "15          16      F   Luxury        Small    C1\n",
      "16          17      F   Luxury       Medium    C1\n",
      "17          18      F   Luxury       Medium    C1\n",
      "18          19      F   Luxury       Medium    C1\n",
      "19          20      F   Luxury        Large    C1\n"
     ]
    }
   ],
   "source": [
    "###Introduction to Data Mining by Tan, Steinbach & Kumar\n",
    "###Chapter 4 Problem 2 \n",
    "###Author: Brenda S. Izquierdo\n",
    "\n",
    "import pandas as pd\n",
    "import numpy as np\n",
    "\n",
    "print(\"2. Consider the training examples shown in Table 4.7 for a binary classification problem\\n\\n\\\")\n",
    "\n",
    "df = pd.DataFrame({'Customer ID': ['1', '2', '3', '4', '5', '6', '7', '8', '9', '10', '11', '12', '13', '14', '15', '16', '17', '18', '19', '20'], \n",
    "                    'Gender': ['M', 'M', 'M', 'M', 'M', 'M', 'F', 'F', 'F', 'F', 'M', 'M', 'M', 'M', 'F', 'F', 'F', 'F', 'F', 'F'],\n",
    "                    'Car Type': ['Family', 'Sports', 'Sports', 'Sports', 'Sports', 'Sports', 'Sports', 'Sports', 'Sports', 'Luxury', 'Family', 'Family', 'Family', 'Luxury', 'Luxury', 'Luxury', 'Luxury', 'Luxury', 'Luxury', 'Luxury'],\n",
    "                    'Shirt Size': ['Small', 'Medium', 'Medium', 'Large', 'Extra Large', 'Extra Large', 'Small', 'Small', 'Medium', 'Large', 'Large', 'Extra Large', 'Medium', 'Extra Large', 'Small', 'Small', 'Medium', 'Medium', 'Medium', 'Large'],\n",
    "                    'Class': ['C0', 'C0', 'C0', 'C0', 'C0', 'C0', 'C0', 'C0', 'C0', 'C0', 'C1', 'C1', 'C1', 'C1', 'C1', 'C1', 'C1', 'C1', 'C1', 'C1']\n",
    "                   })\n",
    "\n",
    "print(df)"
   ]
  },
  {
   "cell_type": "code",
   "execution_count": 76,
   "metadata": {},
   "outputs": [
    {
     "name": "stdout",
     "output_type": "stream",
     "text": [
      "(a) Compute the Gini index for the overall collection of training examples\n",
      "0.5000\n",
      "(b) Compute the Gini index for the Customer ID attribute\n",
      "0.0000\n",
      "(c) Compute the Gini index for the Gender attribute\n",
      "0.4800\n",
      "(d) Compute the Gini index for the Car Type attribute using multiway split\n",
      "0.1625\n",
      "(e) Compute the Gini index for the Shirt Size attribute using multiway split\n",
      "0.4914\n",
      "(f) Which attribute is better Gender, Car Type, or Shirt Size?\n",
      "Car Type, because it has the lowest Gini index.\n",
      "(g) Explain why Customer ID should not be used as the attribute test condition even though it has the lowest Gini \n",
      "Because it is a unique field. Every customer has a unique Customer ID, so this attribute does not have predictive power.\n"
     ]
    }
   ],
   "source": [
    "def Gini_Index(column):\n",
    "    len_class = len(np.unique(df['Class']))\n",
    "    b = len(df)\n",
    "    gini = 0\n",
    "    if(column == 'Class'):\n",
    "        total = 0\n",
    "        for i in range(0, len_class):\n",
    "            a = df['Class'].tolist().count(np.unique(df['Class'])[i])            \n",
    "            total += pow(a/b, 2)\n",
    "        gini = 1 - total\n",
    "    else:\n",
    "        len_col = len(np.unique(df[column]))\n",
    "        for j in range(0, len_col): \n",
    "            total = 0\n",
    "            a = df[column].tolist().count(np.unique(df[column])[j])\n",
    "            for i in range(0, len_class): \n",
    "                c = len(df.loc[(df[column] == np.unique(df[column])[j]) & (df[\"Class\"] ==  np.unique(df[\"Class\"])[i])])\n",
    "                total += pow(c/a, 2)\n",
    "            gini += (a/b)*(1 - total)\n",
    "    return \"%.4f\" % gini\n",
    "\n",
    "print(\"(a) Compute the Gini index for the overall collection of training examples\")\n",
    "print(Gini_Index(\"Class\"))\n",
    "print(\"(b) Compute the Gini index for the Customer ID attribute\")\n",
    "print(Gini_Index(\"Customer ID\"))\n",
    "print(\"(c) Compute the Gini index for the Gender attribute\")\n",
    "print(Gini_Index(\"Gender\"))\n",
    "print(\"(d) Compute the Gini index for the Car Type attribute using multiway split\")\n",
    "print(Gini_Index(\"Car Type\"))\n",
    "print(\"(e) Compute the Gini index for the Shirt Size attribute using multiway split\")\n",
    "print(Gini_Index(\"Shirt Size\"))\n",
    "print(\"(f) Which attribute is better Gender, Car Type, or Shirt Size?\")\n",
    "print(\"Car Type, because it has the lowest Gini index.\")\n",
    "print(\"(g) Explain why Customer ID should not be used as the attribute test condition even though it has the lowest Gini \")\n",
    "print(\"Because it is a unique field. Every customer has a unique Customer ID, so this attribute does not have predictive power.\")"
   ]
  },
  {
   "cell_type": "code",
   "execution_count": null,
   "metadata": {},
   "outputs": [],
   "source": []
  }
 ],
 "metadata": {
  "kernelspec": {
   "display_name": "Python 3",
   "language": "python",
   "name": "python3"
  },
  "language_info": {
   "codemirror_mode": {
    "name": "ipython",
    "version": 3
   },
   "file_extension": ".py",
   "mimetype": "text/x-python",
   "name": "python",
   "nbconvert_exporter": "python",
   "pygments_lexer": "ipython3",
   "version": "3.6.5"
  }
 },
 "nbformat": 4,
 "nbformat_minor": 2
}
