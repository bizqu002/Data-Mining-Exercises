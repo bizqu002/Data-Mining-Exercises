{
 "cells": [
  {
   "cell_type": "code",
   "execution_count": 1,
   "metadata": {},
   "outputs": [
    {
     "name": "stdout",
     "output_type": "stream",
     "text": [
      "5. Consider the following data set for a binary class problem.\n",
      "\n",
      "   A  B Class Label\n",
      "0  T  F           +\n",
      "1  T  T           +\n",
      "2  T  T           +\n",
      "3  T  F           -\n",
      "4  T  T           +\n",
      "5  F  F           -\n",
      "6  F  F           -\n",
      "7  F  F           -\n",
      "8  T  T           -\n",
      "9  T  F           -\n",
      "(a) Calculate the information gain when splitting on A and B. Which attribute would the decision tree induction algorithm choose?\n"
     ]
    }
   ],
   "source": [
    "###Introduction to Data Mining by Tan, Steinbach & Kumar\n",
    "###Chapter 4 Problem 5 \n",
    "###Author: Brenda S. Izquierdo\n",
    "\n",
    "import numpy as np\n",
    "import pandas as pd\n",
    "import math as mt\n",
    "\n",
    "print(\"5. Consider the following data set for a binary class problem.\\n\")\n",
    "\n",
    "df = pd.DataFrame({\n",
    "    'A': ['T', 'T', 'T', 'T', 'T', 'F', 'F', 'F', 'T', 'T'],\n",
    "    'B': ['F', 'T', 'T', 'F', 'T', 'F', 'F', 'F', 'T', 'F'],\n",
    "    'Class Label': ['+', '+', '+', '-', '+', '-', '-', '-', '-', '-']\n",
    "})\n",
    "\n",
    "print(df)\n",
    "print(\"(a) Calculate the information gain when splitting on A and B. Which attribute would the decision tree induction algorithm choose?\")\n"
   ]
  },
  {
   "cell_type": "code",
   "execution_count": 17,
   "metadata": {},
   "outputs": [
    {
     "name": "stdout",
     "output_type": "stream",
     "text": [
      "Information gain on A: 0.2813\n",
      "Information gain on B: 0.2564\n",
      "Therefore, attribute A will be chosen to split the node.\n"
     ]
    }
   ],
   "source": [
    "length = len(df)\n",
    "labels = np.unique(df['Class Label'])\n",
    "\n",
    "def information_gain(column):\n",
    "    sublabels = np.unique(df[column])\n",
    "    information_gain = 0\n",
    "    if(column == 'Class Label'):\n",
    "        for i in range(0, len(labels.tolist())):\n",
    "            class_count = df['Class Label'].tolist().count(labels[i])\n",
    "            information_gain += -(class_count/length)*mt.log2(class_count/length)\n",
    "    else:\n",
    "        for i in range(0, len(sublabels.tolist())):\n",
    "            class_count = df[column].tolist().count(sublabels[i]) \n",
    "            info_gain = 0\n",
    "            for j in range(0, len(labels.tolist())):\n",
    "                num = len(df.loc[(df['Class Label'] == labels[j]) & (df[column] == sublabels[i])])\n",
    "                if(num > 0):\n",
    "                    info_gain -= (num/class_count)*mt.log2(num/class_count)\n",
    "                else:\n",
    "                    info_gain = 0\n",
    "            info_gain *= -(class_count/length)\n",
    "            information_gain += info_gain\n",
    "    return information_gain\n",
    "\n",
    "print(\"Information gain on A: %.4f\" % (information_gain('Class Label') + information_gain('A')))\n",
    "print(\"Information gain on B: %.4f\" % (information_gain('Class Label') + information_gain('B')))\n",
    "print(\"Therefore, attribute A will be chosen to split the node.\")"
   ]
  },
  {
   "cell_type": "code",
   "execution_count": 18,
   "metadata": {},
   "outputs": [
    {
     "name": "stdout",
     "output_type": "stream",
     "text": [
      "(b) Calculate the gain in the Gini index when splitting on A and B. Which attribute would the decision tree induction algorithm choose? \n",
      "Gini index gain on A: 0.1371\n",
      "Gini index gain on B: 0.1633\n",
      "Therefore, attribute B will be chosen to split the node.\n"
     ]
    }
   ],
   "source": [
    "print(\"(b) Calculate the gain in the Gini index when splitting on A and B. Which attribute would the decision tree induction algorithm choose? \")\n",
    "\n",
    "def gini_index(column):\n",
    "    gini = 0\n",
    "    if(column == 'Class Label'):\n",
    "        total = 0\n",
    "        for i in range(0, len(labels.tolist())):\n",
    "            a = df['Class Label'].tolist().count(labels[i])            \n",
    "            total += pow(a/length, 2)\n",
    "        gini = 1 - total\n",
    "    else:\n",
    "        sublabels = np.unique(df[column])\n",
    "        for i in range(0, len(sublabels.tolist())): \n",
    "            total = 0\n",
    "            a = df[column].tolist().count(sublabels[i])\n",
    "            for j in range(0, len(labels.tolist())): \n",
    "                c = len(df.loc[(df['Class Label'] ==  labels[j]) & (df[column] == sublabels[i])])\n",
    "                total += pow(c/a, 2)\n",
    "            gini += -(a/length)*(1 - total)\n",
    "    return gini\n",
    "\n",
    "print(\"Gini index gain on A: %.4f\" % (gini_index('Class Label') + gini_index('A')))\n",
    "print(\"Gini index gain on B: %.4f\" % (gini_index('Class Label') + gini_index('B')))\n",
    "print(\"Therefore, attribute B will be chosen to split the node.\")"
   ]
  },
  {
   "cell_type": "code",
   "execution_count": 21,
   "metadata": {},
   "outputs": [
    {
     "name": "stdout",
     "output_type": "stream",
     "text": [
      "(c) Figure 4.13 shows that entropy and the Gini index are both monotonously increasing on the range [0,0.5] and they are both monotonously decreasing on the range [0.5, 1]. Is it possible that information gain and the gain in the Gini index favor different attributes? Explain. \n",
      "Yes, even though these measures have similar range and monotonous behavior, their respective gains, which are scaled differences of the measures, do not necessarily behave in the same way, as illustrated by the results in parts (a) and (b). \n"
     ]
    }
   ],
   "source": [
    "print(\"(c) Figure 4.13 shows that entropy and the Gini index are both monotonously increasing on the range [0,0.5] and they are both monotonously decreasing on the range [0.5, 1]. Is it possible that information gain and the gain in the Gini index favor different attributes? Explain. \")\n",
    "print(\"Yes, even though these measures have similar range and monotonous behavior, their respective gains, which are scaled differences of the measures, do not necessarily behave in the same way, as illustrated by the results in parts (a) and (b). \")"
   ]
  },
  {
   "cell_type": "code",
   "execution_count": null,
   "metadata": {},
   "outputs": [],
   "source": []
  }
 ],
 "metadata": {
  "kernelspec": {
   "display_name": "Python 3",
   "language": "python",
   "name": "python3"
  },
  "language_info": {
   "codemirror_mode": {
    "name": "ipython",
    "version": 3
   },
   "file_extension": ".py",
   "mimetype": "text/x-python",
   "name": "python",
   "nbconvert_exporter": "python",
   "pygments_lexer": "ipython3",
   "version": "3.6.5"
  }
 },
 "nbformat": 4,
 "nbformat_minor": 2
}
