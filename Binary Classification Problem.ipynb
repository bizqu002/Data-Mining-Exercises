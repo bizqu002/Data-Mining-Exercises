{
 "cells": [
  {
   "cell_type": "code",
   "execution_count": 2,
   "metadata": {},
   "outputs": [
    {
     "name": "stdout",
     "output_type": "stream",
     "text": [
      "Instance a1 a2   a3 Class\n",
      "      1  T  T  1.0     +\n",
      "      2  T  T  6.0     +\n",
      "      3  T  F  5.0     -\n",
      "      4  F  F  4.0     +\n",
      "      5  F  T  7.0     -\n",
      "      6  F  T  3.0     -\n",
      "      7  F  F  8.0     -\n",
      "      8  T  F  7.0     +\n",
      "      9  F  T  5.0     -\n"
     ]
    }
   ],
   "source": [
    "###Introduction to Data Mining by Tan, Steinbach & Kumar\n",
    "###Chapter 4 Problem 3 \n",
    "###Author: Brenda S. Izquierdo\n",
    "\n",
    "import numpy as np\n",
    "import pandas as pd\n",
    "import math as mt\n",
    "\n",
    "df = pd.DataFrame({\n",
    "    'Instance': ['1', '2', '3', '4', '5', '6', '7', '8', '9'],\n",
    "    'a1': ['T', 'T', 'T', 'F', 'F', 'F', 'F', 'T', 'F'],\n",
    "    'a2': ['T', 'T', 'F', 'F', 'T', 'T', 'F', 'F', 'T'],\n",
    "    'a3': [1.0, 6.0, 5.0, 4.0, 7.0, 3.0, 8.0, 7.0, 5.0],\n",
    "    'Class': ['+', '+', '-', '+', '-', '-', '-', '+', '-']\n",
    "})\n",
    "\n",
    "print(df.to_string(index=False))\n"
   ]
  },
  {
   "cell_type": "code",
   "execution_count": 3,
   "metadata": {},
   "outputs": [],
   "source": [
    "\n",
    "def entropy(col):\n",
    "    entropy = 0\n",
    "    classes = list(df['Class'])\n",
    "    set_classes = np.unique(classes)\n",
    "    dem = len(df)\n",
    "    if(col == 'Class'):\n",
    "        for i in range(0, len(set_classes)):\n",
    "            num = classes.count(set_classes[i])\n",
    "            entropy -= ((num/dem)*mt.log2(num/dem))\n",
    "    else:\n",
    "        set_subclasses = np.unique(list(df[col]))\n",
    "        for i in range(0, len(set_classes)):\n",
    "            num = classes.count(set_classes[i])\n",
    "            class_entropy = 0\n",
    "            for j in range(0, len(set_subclasses)):\n",
    "                count = len(df.loc[(df[col] == set_subclasses[j]) & (df['Class'] == set_classes[i])])\n",
    "                class_entropy -= ((count/num)*mt.log2(count/num)) \n",
    "            class_entropy *= (num/dem)\n",
    "            entropy += class_entropy\n",
    "    return entropy\n",
    "\n",
    "\n",
    "def information_gain(col):\n",
    "    return entropy('Class') - entropy(col)\n",
    "\n",
    "def error_rate(col):\n",
    "    list_ = []\n",
    "    error_rate = 0\n",
    "    classes = list(df['Class'])\n",
    "    set_classes = np.unique(classes)\n",
    "    dem = len(df)\n",
    "    if(col == 'Class'):\n",
    "        for i in range(0, len(set_classes)):\n",
    "            num = classes.count(set_classes[i])\n",
    "            list_.append(num/dem)\n",
    "        error_rate = 1 - max(list_)\n",
    "    else:\n",
    "        set_subclasses = np.unique(list(df[col]))\n",
    "        max_list = 0\n",
    "        for i in range(0, len(set_classes)):\n",
    "            list_ = []\n",
    "            for j in range(0, len(set_subclasses)):\n",
    "                count = len(df.loc[(df[col] == set_subclasses[j]) & (df['Class'] == set_classes[i])])\n",
    "                list_.append(count/dem)\n",
    "            max_list += max(list_)\n",
    "        error_rate = 1 - max_list\n",
    "    return error_rate\n",
    "    \n",
    "def gini_index(column):\n",
    "    len_class = len(np.unique(df['Class']))\n",
    "    b = len(df)\n",
    "    gini = 0\n",
    "    if(column == 'Class'):\n",
    "        total = 0\n",
    "        for i in range(0, len_class):\n",
    "            a = df['Class'].tolist().count(np.unique(df['Class'])[i])            \n",
    "            total += pow(a/b, 2)\n",
    "        gini = 1 - total\n",
    "    else:\n",
    "        len_col = len(np.unique(df[column]))\n",
    "        for j in range(0, len_col): \n",
    "            total = 0\n",
    "            a = df[column].tolist().count(np.unique(df[column])[j])\n",
    "            for i in range(0, len_class): \n",
    "                c = len(df.loc[(df[column] == np.unique(df[column])[j]) & (df[\"Class\"] ==  np.unique(df[\"Class\"])[i])])\n",
    "                total += pow(c/a, 2)\n",
    "            gini += (a/b)*(1 - total)\n",
    "    return gini"
   ]
  },
  {
   "cell_type": "code",
   "execution_count": 90,
   "metadata": {},
   "outputs": [
    {
     "name": "stdout",
     "output_type": "stream",
     "text": [
      "3. Consider the training examples shown in this table for a binary classification problem\n",
      "(a) What is the entropy of this collection of training examples with respect to the positive class\n",
      "0.9911\n",
      "(b) What are the information gains of a1 and a2 relative to these training examples?\n",
      "For a1: 0.2294\n",
      "For a2: 0.0072\n",
      "(c) What is the best split (between a1 and a2) according to the classification error rate?\n",
      "For a1: 0.2222\n",
      "For a2: 0.4444\n",
      "According to error rate, a1 produces the best split.\n",
      "(d) What is the best split (between a1 and a2) according to the Gini index?\n",
      "For a1: 0.3444\n",
      "For a2: 0.4889\n",
      "Since the gini index for a1 is smaller, it produces the better split\n"
     ]
    }
   ],
   "source": [
    "print(\"3. Consider the training examples shown in this table for a binary classification problem\")\n",
    "print(\"(a) What is the entropy of this collection of training examples with respect to the positive class\")\n",
    "print(\"%.4f\" % entropy('Class'))\n",
    "print(\"(b) What are the information gains of a1 and a2 relative to these training examples?\")\n",
    "print(\"For a1: %.4f\" % information_gain('a1'))\n",
    "print(\"For a2: %.4f\" % information_gain('a2'))\n",
    "print(\"(c) What is the best split (between a1 and a2) according to the classification error rate?\")\n",
    "print(\"For a1: %.4f\" % error_rate('a1'))\n",
    "print(\"For a2: %.4f\" % error_rate('a2'))\n",
    "print(\"According to error rate, a1 produces the best split.\")\n",
    "print(\"(d) What is the best split (between a1 and a2) according to the Gini index?\")\n",
    "print(\"For a1: %.4f\" % gini_index('a1'))\n",
    "print(\"For a2: %.4f\" % gini_index('a2'))\n",
    "print(\"Since the gini index for a1 is smaller, it produces the better split\")"
   ]
  }
 ],
 "metadata": {
  "kernelspec": {
   "display_name": "Python 3",
   "language": "python",
   "name": "python3"
  },
  "language_info": {
   "codemirror_mode": {
    "name": "ipython",
    "version": 3
   },
   "file_extension": ".py",
   "mimetype": "text/x-python",
   "name": "python",
   "nbconvert_exporter": "python",
   "pygments_lexer": "ipython3",
   "version": "3.6.5"
  }
 },
 "nbformat": 4,
 "nbformat_minor": 2
}
