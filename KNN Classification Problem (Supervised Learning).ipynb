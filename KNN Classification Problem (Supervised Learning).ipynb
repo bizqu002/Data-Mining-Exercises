{
 "cells": [
  {
   "cell_type": "code",
   "execution_count": 109,
   "metadata": {},
   "outputs": [
    {
     "name": "stdout",
     "output_type": "stream",
     "text": [
      "13. Consider the one-dimensional data set shown in Table 5.13\n",
      "     X  Y\n",
      "0  0.5  -\n",
      "1  3.0  -\n",
      "2  4.5  +\n",
      "3  4.6  +\n",
      "4  4.9  +\n",
      "5  5.2  -\n",
      "6  5.3  -\n",
      "7  5.5  +\n",
      "8  7.0  -\n",
      "9  9.5  -\n"
     ]
    }
   ],
   "source": [
    "###Introduction to Data Mining by Tan, Steinbach & Kumar\n",
    "###Chapter 5 Problem 13 \n",
    "###Author: Brenda S. Izquierdo\n",
    "\n",
    "import numpy as np\n",
    "import pandas as pd\n",
    "import scipy.spatial as sc\n",
    "import statistics\n",
    "\n",
    "print(\"13. Consider the one-dimensional data set shown in Table 5.13\")\n",
    "df = pd.DataFrame({'X': [0.5, 3.0, 4.5, 4.6, 4.9, 5.2, 5.3, 5.5, 7.0, 9.5],\n",
    "                   'Y': ['-', '-', '+', '+', '+', '-', '-', '+', '-', '-']\n",
    "                   })\n",
    "\n",
    "print(df)\n",
    "\n",
    "klist = [1, 3, 5, 9]"
   ]
  },
  {
   "cell_type": "code",
   "execution_count": 110,
   "metadata": {},
   "outputs": [
    {
     "name": "stdout",
     "output_type": "stream",
     "text": [
      "(a) Classify the data point x = 5.0 according to its 1-, 3-, 5-, and 9-nearest neighbors (using majority vote).\n",
      "1-nearest neighbor: +\n",
      "3-nearest neighbor: -\n",
      "5-nearest neighbor: +\n",
      "9-nearest neighbor: -\n"
     ]
    }
   ],
   "source": [
    "print(\"(a) Classify the data point x = 5.0 according to its 1-, 3-, 5-, and 9-nearest neighbors (using majority vote).\")\n",
    "\n",
    "def knn(entry, k):\n",
    "    distances = []\n",
    "    if(k <= len(df)):\n",
    "        for i in range(0, len(df)):\n",
    "            d = sc.distance.euclidean(df['X'][i], entry)\n",
    "            distances.append(d) #store distances between points and new entry in respective order\n",
    "        knn = []\n",
    "        for i in range(0, k):\n",
    "            min_val = min(distances) #get the minimum value in the distance list\n",
    "            knn.append(df['Y'][distances.index(min_val)]) #get the label based on the index of min_value\n",
    "            distances[distances.index(min_val)] = float('inf') #replace min_val by inf\n",
    "        try:\n",
    "            return statistics.mode(knn) #find the most common label \n",
    "        except:\n",
    "            return \"Tie. Try an odd k or add more data. k = 1 would be a good solution.\"\n",
    "    else:\n",
    "        return \"k cannot be larger than the number of records.\"\n",
    "\n",
    "for i in range(0, len(klist)):\n",
    "    print(klist[i], \"-nearest neighbor: \", knn(5.0, klist[i]), sep='')"
   ]
  },
  {
   "cell_type": "code",
   "execution_count": 108,
   "metadata": {},
   "outputs": [
    {
     "name": "stdout",
     "output_type": "stream",
     "text": [
      "(b) Repeat the previous analysis using the distance-weighted voting approach described in Section 5.2.1.\n",
      "1-nearest neighbor: +\n",
      "3-nearest neighbor: +\n",
      "5-nearest neighbor: +\n",
      "9-nearest neighbor: +\n"
     ]
    }
   ],
   "source": [
    "print(\"(b) Repeat the previous analysis using the distance-weighted voting approach described in Section 5.2.1.\")\n",
    "\n",
    "def knn_distance_weighted(entry, k):\n",
    "    distances = []\n",
    "    if(k <= len(df)):\n",
    "        for i in range(0, len(df)):\n",
    "            d = (1/pow(sc.distance.euclidean(df['X'][i], entry), 2)) \n",
    "            distances.append(d) \n",
    "        knn = []\n",
    "        for i in range(0, k):\n",
    "            max_val = max(distances) #get the maximum value in the distance list (the closest point to the new entry is the max_val in the wkNN algorithm)\n",
    "            for j in range(0, int(max_val)):\n",
    "                knn.append(df['Y'][distances.index(max_val)]) \n",
    "            distances[distances.index(max_val)] = float('-inf') \n",
    "        try:\n",
    "            return statistics.mode(knn) \n",
    "        except:\n",
    "            return \"Tie. Try an odd k or add more data. k = 1 would be a good solution.\"\n",
    "    else:\n",
    "        return \"k cannot be larger than the number of records.\"\n",
    "    \n",
    "    \n",
    "for i in range(0, len(klist)):\n",
    "    print(klist[i], \"-nearest neighbor: \", knn_distance_weighted(5.0, klist[i]), sep='')"
   ]
  },
  {
   "cell_type": "code",
   "execution_count": null,
   "metadata": {},
   "outputs": [],
   "source": []
  }
 ],
 "metadata": {
  "kernelspec": {
   "display_name": "Python 3",
   "language": "python",
   "name": "python3"
  },
  "language_info": {
   "codemirror_mode": {
    "name": "ipython",
    "version": 3
   },
   "file_extension": ".py",
   "mimetype": "text/x-python",
   "name": "python",
   "nbconvert_exporter": "python",
   "pygments_lexer": "ipython3",
   "version": "3.6.5"
  }
 },
 "nbformat": 4,
 "nbformat_minor": 2
}
